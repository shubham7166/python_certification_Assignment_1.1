{
 "cells": [
  {
   "cell_type": "markdown",
   "id": "5e0ba0f4",
   "metadata": {},
   "source": [
    "Find and read 20 interview questions for Data Types, Operators, Conditional Statements, Looping Statements, Functions."
   ]
  },
  {
   "cell_type": "markdown",
   "id": "c22a426e",
   "metadata": {},
   "source": [
    "## 1) Data Types\n",
    "\n",
    "1) What are Data Types?\n",
    "\n",
    "2)Name four of the main data types in Python?\n",
    "\n",
    "3)Why are these data types known as Python’s core data types?\n",
    "\n",
    "4)What does immutable mean and what three types of Python core data types are considered immutable?"
   ]
  },
  {
   "cell_type": "markdown",
   "id": "bba20ca3",
   "metadata": {},
   "source": [
    "## 2)Operators\n",
    "\n",
    "1) Name all the type of operators?\n",
    "\n",
    "2) What does % do? What is the difference between the / & //.\n",
    "\n",
    "3) What are the logical operators? How they work?\n",
    "\n",
    "4) What is the use of ** operator?"
   ]
  },
  {
   "cell_type": "markdown",
   "id": "9057ba0c",
   "metadata": {},
   "source": [
    "## 3)Conditional Statements\n",
    "\n",
    "1) Name the keyword which helps in writing code involves condition.\n",
    "\n",
    "2) Write the syntax of simple if statement.\n",
    "\n",
    "3) Is there any limit of statement that can appear under an if block?\n",
    "\n",
    "4) What signifies the end of a statement block or suite in Python?"
   ]
  },
  {
   "cell_type": "markdown",
   "id": "7591a373",
   "metadata": {},
   "source": [
    "## 4)Looping Statements\n",
    "\n",
    "1) What function can generate a list of numbers?\n",
    "\n",
    "2) Name the 2 keywords used for looping?\n",
    "\n",
    "3) What is the nested loops?\n",
    "\n",
    "4) What is continue, break, pass?"
   ]
  },
  {
   "cell_type": "markdown",
   "id": "17cfab9c",
   "metadata": {},
   "source": [
    "## 5)Functions\n",
    "\n",
    "1) Which keyword is used for function?\n",
    "\n",
    "2) Which of the following items are present in the function header?\n",
    "\n",
    "3) What does global keyword mean?\n",
    "\n",
    "4) What does local local variable mean?"
   ]
  },
  {
   "cell_type": "code",
   "execution_count": null,
   "id": "34e0005a",
   "metadata": {},
   "outputs": [],
   "source": []
  }
 ],
 "metadata": {
  "kernelspec": {
   "display_name": "Python 3 (ipykernel)",
   "language": "python",
   "name": "python3"
  },
  "language_info": {
   "codemirror_mode": {
    "name": "ipython",
    "version": 3
   },
   "file_extension": ".py",
   "mimetype": "text/x-python",
   "name": "python",
   "nbconvert_exporter": "python",
   "pygments_lexer": "ipython3",
   "version": "3.9.6"
  }
 },
 "nbformat": 4,
 "nbformat_minor": 5
}
